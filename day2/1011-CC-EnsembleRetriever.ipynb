{
 "cells": [
  {
   "cell_type": "markdown",
   "metadata": {},
   "source": [
    "# Ensemble Retriever `Convex Combination(CC)` 추가\n",
    "\n",
    "[written by@teddynote](https://github.com/teddylee777/langchain-teddynote)\n",
    "\n",
    "- 참고글: [AutoRAG 가 게재한 알고리즘 방식의 차이 설명](https://velog.io/@autorag/%EB%9E%AD%EC%B2%B4%EC%9D%B8%EC%9D%98-Ensemble-Retriever-%EC%9D%B4%EA%B2%8C-%EB%8C%80%EC%B2%B4-%EB%AD%90%EC%A7%80)"
   ]
  },
  {
   "cell_type": "markdown",
   "metadata": {},
   "source": [
    "아래의 주석을 풀고 패키지를 업데이트 후 진행합니다."
   ]
  },
  {
   "cell_type": "code",
   "execution_count": 2,
   "metadata": {},
   "outputs": [],
   "source": [
    "# 업데이트 후 진행\n",
    "# !pip install -qU langchain-teddynote"
   ]
  },
  {
   "cell_type": "code",
   "execution_count": 1,
   "metadata": {},
   "outputs": [
    {
     "data": {
      "text/plain": [
       "True"
      ]
     },
     "execution_count": 1,
     "metadata": {},
     "output_type": "execute_result"
    }
   ],
   "source": [
    "from dotenv import load_dotenv\n",
    "\n",
    "load_dotenv()"
   ]
  },
  {
   "cell_type": "markdown",
   "metadata": {},
   "source": [
    "## 실험을 위한 사전 셋업"
   ]
  },
  {
   "cell_type": "code",
   "execution_count": 8,
   "metadata": {},
   "outputs": [
    {
     "name": "stdout",
     "output_type": "stream",
     "text": [
      "Requirement already satisfied: pdfplumber in d:\\git\\langchain-kr\\.venv\\lib\\site-packages (0.11.7)\n",
      "Requirement already satisfied: pdfminer.six==20250506 in d:\\git\\langchain-kr\\.venv\\lib\\site-packages (from pdfplumber) (20250506)\n",
      "Requirement already satisfied: Pillow>=9.1 in d:\\git\\langchain-kr\\.venv\\lib\\site-packages (from pdfplumber) (11.3.0)\n",
      "Requirement already satisfied: pypdfium2>=4.18.0 in d:\\git\\langchain-kr\\.venv\\lib\\site-packages (from pdfplumber) (4.30.1)\n",
      "Requirement already satisfied: charset-normalizer>=2.0.0 in d:\\git\\langchain-kr\\.venv\\lib\\site-packages (from pdfminer.six==20250506->pdfplumber) (3.4.2)\n",
      "Requirement already satisfied: cryptography>=36.0.0 in d:\\git\\langchain-kr\\.venv\\lib\\site-packages (from pdfminer.six==20250506->pdfplumber) (45.0.5)\n",
      "Requirement already satisfied: cffi>=1.14 in d:\\git\\langchain-kr\\.venv\\lib\\site-packages (from cryptography>=36.0.0->pdfminer.six==20250506->pdfplumber) (1.17.1)\n",
      "Requirement already satisfied: pycparser in d:\\git\\langchain-kr\\.venv\\lib\\site-packages (from cffi>=1.14->cryptography>=36.0.0->pdfminer.six==20250506->pdfplumber) (2.22)\n"
     ]
    }
   ],
   "source": [
    "!pip install pdfplumber\n",
    "import os\n",
    "from langchain.retrievers import EnsembleRetriever as OriginalEnsembleRetriever\n",
    "from langchain_text_splitters import RecursiveCharacterTextSplitter\n",
    "from langchain_community.document_loaders import PDFPlumberLoader\n",
    "from langchain_community.vectorstores import FAISS\n",
    "from langchain_openai import OpenAIEmbeddings\n",
    "from langchain_teddynote.retrievers import KiwiBM25Retriever\n",
    "\n",
    "pdf_path = \"./data/디지털 정부혁신 추진계획.pdf\"  # 한글 파일명으로 변경\n",
    "if not os.path.isfile(pdf_path):\n",
    "    raise FileNotFoundError(f\"PDF 파일이 존재하지 않습니다: {pdf_path}\")\n",
    "\n",
    "loader = PDFPlumberLoader(pdf_path)\n",
    "\n",
    "# 문서 분할(Split Documents): 테스트를 위하여 작은 Chunk Size로 설정\n",
    "text_splitter = RecursiveCharacterTextSplitter(chunk_size=100, chunk_overlap=0)\n",
    "split_documents = loader.load_and_split(text_splitter)\n",
    "\n",
    "# 임베딩(Embedding) 생성\n",
    "embeddings = OpenAIEmbeddings(model=\"text-embedding-3-small\")\n",
    "\n",
    "# FaissRetriever 생성\n",
    "faiss = FAISS.from_documents(\n",
    "    documents=split_documents, embedding=embeddings\n",
    ").as_retriever(search_kwargs={\"k\": 5})\n",
    "\n",
    "# KiwiBM25Retriever 생성(한글 형태소 분석기 + BM25 알고리즘)\n",
    "bm25 = KiwiBM25Retriever.from_documents(documents=split_documents, embedding=embeddings)\n",
    "bm25.k = 5\n",
    "\n",
    "# LangChain 버전의 EnsembleRetriever\n",
    "original_ensemble_retriever = OriginalEnsembleRetriever(retrievers=[faiss, bm25])"
   ]
  },
  {
   "cell_type": "markdown",
   "metadata": {},
   "source": [
    "CC 방식과 RRF 방식의 EnsembleRetriever 생성"
   ]
  },
  {
   "cell_type": "code",
   "execution_count": 9,
   "metadata": {},
   "outputs": [],
   "source": [
    "from langchain_teddynote.retrievers import (\n",
    "    EnsembleRetriever,\n",
    "    EnsembleMethod,\n",
    ")\n",
    "\n",
    "# RRF 방식의 EnsembleRetriever (기본값으로 RRF 가 설정되어 있음)\n",
    "rrf_ensemble_retriever = EnsembleRetriever(\n",
    "    retrievers=[faiss, bm25], method=EnsembleMethod.RRF\n",
    ")\n",
    "\n",
    "# CC 방식의 EnsembleRetriever\n",
    "cc_ensemble_retriever = EnsembleRetriever(\n",
    "    retrievers=[faiss, bm25], method=EnsembleMethod.CC  # method 지정: CC\n",
    ")"
   ]
  },
  {
   "cell_type": "markdown",
   "metadata": {},
   "source": [
    "## 검색 결과 비교"
   ]
  },
  {
   "cell_type": "code",
   "execution_count": 10,
   "metadata": {},
   "outputs": [],
   "source": [
    "def pretty_print(query):\n",
    "    for i, (original_doc, cc_doc, rrf_doc) in enumerate(\n",
    "        zip(\n",
    "            original_ensemble_retriever.invoke(query),\n",
    "            cc_ensemble_retriever.invoke(query),\n",
    "            rrf_ensemble_retriever.invoke(query),\n",
    "        )\n",
    "    ):\n",
    "        print(f\"[{i}] [Original] Q: {query}\", end=\"\\n\\n\")\n",
    "        print(original_doc.page_content)\n",
    "        print(\"-\" * 100)\n",
    "        print(f\"[{i}] [RRF] Q: {query}\", end=\"\\n\\n\")\n",
    "        print(rrf_doc.page_content)\n",
    "        print(\"-\" * 100)\n",
    "        print(f\"[{i}] [CC] Q: {query}\", end=\"\\n\\n\")\n",
    "        print(cc_doc.page_content)\n",
    "        print(\"=\" * 100, end=\"\\n\\n\")"
   ]
  },
  {
   "cell_type": "markdown",
   "metadata": {},
   "source": [
    "- 검색 결과에 `\"Original\"` 과 `\"RRF\"` 는 차이가 없어야 합니다. (LangChain 그대로 구현)\n",
    "- 검색 결과에 `\"CC\"` 는 `\"RRF\"` 와 차이가 있을 수 있습니다.\n",
    "\n",
    "`RRF` 와 `CC` 방식의 검색 결과 비교하여 문서에 적합한 방식을 차용하시길 바랍니다."
   ]
  },
  {
   "cell_type": "code",
   "execution_count": 11,
   "metadata": {},
   "outputs": [
    {
     "name": "stdout",
     "output_type": "stream",
     "text": [
      "[0] [Original] Q: 디지털 트랜스포메이션이란 무엇인가요?\n",
      "\n",
      "참고 1 디지털 정부혁신 추진전략\n",
      "디지털로 여는 좋은 세상\n",
      "□ 비전\n",
      "※ 부제 : 대한민국이 먼저 갑니다.\n",
      "□ 추진원칙 △ 최종 이용자의 관점에서\n",
      "△ 공공서비스 수준 향상을 목표로\n",
      "----------------------------------------------------------------------------------------------------\n",
      "[0] [RRF] Q: 디지털 트랜스포메이션이란 무엇인가요?\n",
      "\n",
      "참고 1 디지털 정부혁신 추진전략\n",
      "디지털로 여는 좋은 세상\n",
      "□ 비전\n",
      "※ 부제 : 대한민국이 먼저 갑니다.\n",
      "□ 추진원칙 △ 최종 이용자의 관점에서\n",
      "△ 공공서비스 수준 향상을 목표로\n",
      "----------------------------------------------------------------------------------------------------\n",
      "[0] [CC] Q: 디지털 트랜스포메이션이란 무엇인가요?\n",
      "\n",
      "참고 1 디지털 정부혁신 추진전략\n",
      "디지털로 여는 좋은 세상\n",
      "□ 비전\n",
      "※ 부제 : 대한민국이 먼저 갑니다.\n",
      "□ 추진원칙 △ 최종 이용자의 관점에서\n",
      "△ 공공서비스 수준 향상을 목표로\n",
      "====================================================================================================\n",
      "\n",
      "[1] [Original] Q: 디지털 트랜스포메이션이란 무엇인가요?\n",
      "\n",
      "디지털기기 사용이 어려운 분들이 차별없이 서비스를 받도록 지원하겠습니다.\n",
      "권익위,\n",
      "□1 국민의 소리 청취·분석 시스템 개선 (22년)\n",
      "각부처·지자체\n",
      "○ (1,009 · ) · *\n",
      "----------------------------------------------------------------------------------------------------\n",
      "[1] [RRF] Q: 디지털 트랜스포메이션이란 무엇인가요?\n",
      "\n",
      "디지털기기 사용이 어려운 분들이 차별없이 서비스를 받도록 지원하겠습니다.\n",
      "권익위,\n",
      "□1 국민의 소리 청취·분석 시스템 개선 (22년)\n",
      "각부처·지자체\n",
      "○ (1,009 · ) · *\n",
      "----------------------------------------------------------------------------------------------------\n",
      "[1] [CC] Q: 디지털 트랜스포메이션이란 무엇인가요?\n",
      "\n",
      "참고 3 디지털 정부혁신 기대효과\n",
      "◈ , 정부 디지털 서비스 세계 최고\n",
      "선도국 2020 UN 전자정부 평가 1위\n",
      "⇨\n",
      "□ ( ) 이용자 경험 획기적으로 개선\n",
      "○ ‘22 ·\n",
      "·\n",
      "====================================================================================================\n",
      "\n",
      "[2] [Original] Q: 디지털 트랜스포메이션이란 무엇인가요?\n",
      "\n",
      "Ⅰ. 개 요\n",
      "□ 추진 배경\n",
      "○\n",
      "‧\n",
      "* UN전자정부평가에서 2010‧12‧14년 1위, 16‧18년 3위, UN공공행정상 13회 수상\n",
      "----------------------------------------------------------------------------------------------------\n",
      "[2] [RRF] Q: 디지털 트랜스포메이션이란 무엇인가요?\n",
      "\n",
      "Ⅰ. 개 요\n",
      "□ 추진 배경\n",
      "○\n",
      "‧\n",
      "* UN전자정부평가에서 2010‧12‧14년 1위, 16‧18년 3위, UN공공행정상 13회 수상\n",
      "----------------------------------------------------------------------------------------------------\n",
      "[2] [CC] Q: 디지털 트랜스포메이션이란 무엇인가요?\n",
      "\n",
      "디지털 정부혁신 추진계획\n",
      "2019. 10. 29.\n",
      "관계부처 합동\n",
      "====================================================================================================\n",
      "\n",
      "[3] [Original] Q: 디지털 트랜스포메이션이란 무엇인가요?\n",
      "\n",
      "참고 3 디지털 정부혁신 기대효과\n",
      "◈ , 정부 디지털 서비스 세계 최고\n",
      "선도국 2020 UN 전자정부 평가 1위\n",
      "⇨\n",
      "□ ( ) 이용자 경험 획기적으로 개선\n",
      "○ ‘22 ·\n",
      "·\n",
      "----------------------------------------------------------------------------------------------------\n",
      "[3] [RRF] Q: 디지털 트랜스포메이션이란 무엇인가요?\n",
      "\n",
      "참고 3 디지털 정부혁신 기대효과\n",
      "◈ , 정부 디지털 서비스 세계 최고\n",
      "선도국 2020 UN 전자정부 평가 1위\n",
      "⇨\n",
      "□ ( ) 이용자 경험 획기적으로 개선\n",
      "○ ‘22 ·\n",
      "·\n",
      "----------------------------------------------------------------------------------------------------\n",
      "[3] [CC] Q: 디지털 트랜스포메이션이란 무엇인가요?\n",
      "\n",
      "디지털기기 사용이 어려운 분들이 차별없이 서비스를 받도록 지원하겠습니다.\n",
      "권익위,\n",
      "□1 국민의 소리 청취·분석 시스템 개선 (22년)\n",
      "각부처·지자체\n",
      "○ (1,009 · ) · *\n",
      "====================================================================================================\n",
      "\n",
      "[4] [Original] Q: 디지털 트랜스포메이션이란 무엇인가요?\n",
      "\n",
      "Ⅱ. 디지털 정부혁신 추진계획\n",
      "‣ (비전) 디지털로 여는 좋은 세상 ※ 부제 : 대한민국이 먼저 갑니다.\n",
      "----------------------------------------------------------------------------------------------------\n",
      "[4] [RRF] Q: 디지털 트랜스포메이션이란 무엇인가요?\n",
      "\n",
      "Ⅱ. 디지털 정부혁신 추진계획\n",
      "‣ (비전) 디지털로 여는 좋은 세상 ※ 부제 : 대한민국이 먼저 갑니다.\n",
      "----------------------------------------------------------------------------------------------------\n",
      "[4] [CC] Q: 디지털 트랜스포메이션이란 무엇인가요?\n",
      "\n",
      "② 공공부문 마이데이터 활성화\n",
      "③ 시민참여를 위한 플랫폼 고도화\n",
      "④ 현장중심 협업을 지원하는 스마트 업무환경 구현\n",
      "⑤ 클라우드와 디지털서비스 이용 활성화\n",
      "====================================================================================================\n",
      "\n",
      "[5] [Original] Q: 디지털 트랜스포메이션이란 무엇인가요?\n",
      "\n",
      "디지털 정부혁신 추진계획\n",
      "2019. 10. 29.\n",
      "관계부처 합동\n",
      "----------------------------------------------------------------------------------------------------\n",
      "[5] [RRF] Q: 디지털 트랜스포메이션이란 무엇인가요?\n",
      "\n",
      "디지털 정부혁신 추진계획\n",
      "2019. 10. 29.\n",
      "관계부처 합동\n",
      "----------------------------------------------------------------------------------------------------\n",
      "[5] [CC] Q: 디지털 트랜스포메이션이란 무엇인가요?\n",
      "\n",
      "Ⅰ. 개 요\n",
      "□ 추진 배경\n",
      "○\n",
      "‧\n",
      "* UN전자정부평가에서 2010‧12‧14년 1위, 16‧18년 3위, UN공공행정상 13회 수상\n",
      "====================================================================================================\n",
      "\n",
      "[6] [Original] Q: 디지털 트랜스포메이션이란 무엇인가요?\n",
      "\n",
      "② 공공부문 마이데이터 활성화\n",
      "③ 시민참여를 위한 플랫폼 고도화\n",
      "④ 현장중심 협업을 지원하는 스마트 업무환경 구현\n",
      "⑤ 클라우드와 디지털서비스 이용 활성화\n",
      "----------------------------------------------------------------------------------------------------\n",
      "[6] [RRF] Q: 디지털 트랜스포메이션이란 무엇인가요?\n",
      "\n",
      "② 공공부문 마이데이터 활성화\n",
      "③ 시민참여를 위한 플랫폼 고도화\n",
      "④ 현장중심 협업을 지원하는 스마트 업무환경 구현\n",
      "⑤ 클라우드와 디지털서비스 이용 활성화\n",
      "----------------------------------------------------------------------------------------------------\n",
      "[6] [CC] Q: 디지털 트랜스포메이션이란 무엇인가요?\n",
      "\n",
      "Ⅱ. 디지털 정부혁신 추진계획\n",
      "‣ (비전) 디지털로 여는 좋은 세상 ※ 부제 : 대한민국이 먼저 갑니다.\n",
      "====================================================================================================\n",
      "\n",
      "[7] [Original] Q: 디지털 트랜스포메이션이란 무엇인가요?\n",
      "\n",
      "ㅇ 공공데이터 연계와 활용 수준을 강화하여 공공서비스 품질을 높이고, 국민이\n",
      "원하고 국민에게 도움이 되는 공공데이터의 개방을 확대해 나가겠습니다.\n",
      "----------------------------------------------------------------------------------------------------\n",
      "[7] [RRF] Q: 디지털 트랜스포메이션이란 무엇인가요?\n",
      "\n",
      "ㅇ 공공데이터 연계와 활용 수준을 강화하여 공공서비스 품질을 높이고, 국민이\n",
      "원하고 국민에게 도움이 되는 공공데이터의 개방을 확대해 나가겠습니다.\n",
      "----------------------------------------------------------------------------------------------------\n",
      "[7] [CC] Q: 디지털 트랜스포메이션이란 무엇인가요?\n",
      "\n",
      "ㅇ 공공데이터 연계와 활용 수준을 강화하여 공공서비스 품질을 높이고, 국민이\n",
      "원하고 국민에게 도움이 되는 공공데이터의 개방을 확대해 나가겠습니다.\n",
      "====================================================================================================\n",
      "\n"
     ]
    }
   ],
   "source": [
    "# 검색 결과 비교\n",
    "pretty_print(\"디지털 트랜스포메이션이란 무엇인가요?\")"
   ]
  }
 ],
 "metadata": {
  "kernelspec": {
   "display_name": ".venv",
   "language": "python",
   "name": "python3"
  },
  "language_info": {
   "codemirror_mode": {
    "name": "ipython",
    "version": 3
   },
   "file_extension": ".py",
   "mimetype": "text/x-python",
   "name": "python",
   "nbconvert_exporter": "python",
   "pygments_lexer": "ipython3",
   "version": "3.12.10"
  }
 },
 "nbformat": 4,
 "nbformat_minor": 2
}
